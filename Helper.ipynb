{
  "nbformat": 4,
  "nbformat_minor": 0,
  "metadata": {
    "colab": {
      "name": "Helper.ipynb",
      "provenance": [],
      "authorship_tag": "ABX9TyPhLkgnpHCcIKGQbYtVSFse",
      "include_colab_link": true
    },
    "kernelspec": {
      "name": "python3",
      "display_name": "Python 3"
    },
    "language_info": {
      "name": "python"
    }
  },
  "cells": [
    {
      "cell_type": "markdown",
      "metadata": {
        "id": "view-in-github",
        "colab_type": "text"
      },
      "source": [
        "<a href=\"https://colab.research.google.com/github/TheRealBenWilliamson/Bridge-Coursework/blob/master/Helper.ipynb\" target=\"_parent\"><img src=\"https://colab.research.google.com/assets/colab-badge.svg\" alt=\"Open In Colab\"/></a>"
      ]
    },
    {
      "cell_type": "code",
      "metadata": {
        "id": "IC8wQZYHpphd"
      },
      "source": [
        "class Person:\n",
        "  def __init__(self, name, age, height):\n",
        "    self.name = name\n",
        "    self.age = age\n",
        "    self.height = height\n",
        "\n",
        "  def add(self):\n",
        "    return self.age + self.height"
      ],
      "execution_count": 7,
      "outputs": []
    },
    {
      "cell_type": "code",
      "metadata": {
        "id": "DM5iSuNip0lY"
      },
      "source": [
        "dave = Person('Dave', 21, 180)"
      ],
      "execution_count": 8,
      "outputs": []
    },
    {
      "cell_type": "code",
      "metadata": {
        "colab": {
          "base_uri": "https://localhost:8080/"
        },
        "id": "ucoyHvNPrPYR",
        "outputId": "fbe4ab37-43d8-47d6-b048-9963b12ee0bb"
      },
      "source": [
        "dave.add()"
      ],
      "execution_count": 9,
      "outputs": [
        {
          "output_type": "execute_result",
          "data": {
            "text/plain": [
              "201"
            ]
          },
          "metadata": {},
          "execution_count": 9
        }
      ]
    }
  ]
}